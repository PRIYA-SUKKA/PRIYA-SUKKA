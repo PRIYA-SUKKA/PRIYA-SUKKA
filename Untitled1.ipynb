{
 "cells": [
  {
   "cell_type": "code",
   "execution_count": 1,
   "id": "5e17952c",
   "metadata": {},
   "outputs": [
    {
     "name": "stdout",
     "output_type": "stream",
     "text": [
      "Enter the string: python\n",
      "Reversed Resultant String: htyp\n"
     ]
    }
   ],
   "source": [
    "input_string = list(input(\"Enter the string: \"))\n",
    "del input_string[-2:]\n",
    "resultant_string = ''.join(reversed(input_string))\n",
    "print(\"Reversed Resultant String:\", resultant_string)"
   ]
  },
  {
   "cell_type": "code",
   "execution_count": 2,
   "id": "505fb6fe",
   "metadata": {},
   "outputs": [
    {
     "name": "stdout",
     "output_type": "stream",
     "text": [
      "Enter the first number: 6\n",
      "Enter the second number: 3\n",
      "Addition: 9.0\n",
      "Subtraction: 3.0\n",
      "Multiplication: 18.0\n",
      "Division: 2.0\n"
     ]
    }
   ],
   "source": [
    "num1 = float(input(\"Enter the first number: \"))\n",
    "num2 = float(input(\"Enter the second number: \"))\n",
    "addition_result = num1 + num2\n",
    "subtraction_result = num1 - num2\n",
    "multiplication_result = num1 * num2\n",
    "if num2 != 0:\n",
    "    division_result = num1 / num2\n",
    "else:\n",
    "    division_result = \"Cannot divide by zero\"\n",
    "print(f\"Addition: {addition_result}\")\n",
    "print(f\"Subtraction: {subtraction_result}\")\n",
    "print(f\"Multiplication: {multiplication_result}\")\n",
    "print(f\"Division: {division_result}\")"
   ]
  },
  {
   "cell_type": "code",
   "execution_count": 3,
   "id": "ba939c0a",
   "metadata": {},
   "outputs": [
    {
     "name": "stdout",
     "output_type": "stream",
     "text": [
      "Enter a sentence: I love playing with python\n",
      "Modified Sentence: I love playing with pythons\n"
     ]
    }
   ],
   "source": [
    "sentence = input(\"Enter a sentence: \")\n",
    "modified_sentence = sentence.replace('python', 'pythons')\n",
    "print(\"Modified Sentence:\",modified_sentence)"
   ]
  },
  {
   "cell_type": "code",
   "execution_count": 4,
   "id": "0fce98a3",
   "metadata": {},
   "outputs": [
    {
     "name": "stdout",
     "output_type": "stream",
     "text": [
      "Enter the class score: 58\n",
      "Letter Grade: F\n"
     ]
    }
   ],
   "source": [
    "class_score = float(input(\"Enter the class score: \"))\n",
    "if 90 <= class_score <= 100:\n",
    "    grade = 'A'\n",
    "elif 80 <= class_score < 90:\n",
    "    grade = 'B'\n",
    "elif 70 <= class_score < 80:\n",
    "    grade = 'C'\n",
    "elif 60 <= class_score < 70:\n",
    "    grade = 'D'\n",
    "else:\n",
    "    grade = 'F'\n",
    "print(\"Letter Grade:\", grade)"
   ]
  },
  {
   "cell_type": "code",
   "execution_count": null,
   "id": "cadd3e19",
   "metadata": {},
   "outputs": [],
   "source": []
  }
 ],
 "metadata": {
  "kernelspec": {
   "display_name": "Python 3 (ipykernel)",
   "language": "python",
   "name": "python3"
  },
  "language_info": {
   "codemirror_mode": {
    "name": "ipython",
    "version": 3
   },
   "file_extension": ".py",
   "mimetype": "text/x-python",
   "name": "python",
   "nbconvert_exporter": "python",
   "pygments_lexer": "ipython3",
   "version": "3.11.5"
  }
 },
 "nbformat": 4,
 "nbformat_minor": 5
}
